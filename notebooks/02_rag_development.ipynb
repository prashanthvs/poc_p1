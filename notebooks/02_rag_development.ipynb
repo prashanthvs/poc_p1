{
  "cells": [
    {
      "cell_type": "markdown",
      "metadata": {},
      "source": [
        "# RAG Development Notebook\n",
        "\n",
        "This notebook is for testing and developing RAG chains, retrievers, and LLM providers.\n",
        "\n",
        "## Features\n",
        "- RAG chain testing and development\n",
        "- Retriever performance evaluation\n",
        "- LLM provider comparison\n",
        "- Prompt engineering and optimization\n",
        "- Vector search experimentation\n",
        "- Response quality analysis\n"
      ]
    },
    {
      "cell_type": "markdown",
      "metadata": {},
      "source": [
        "## Setup and Configuration\n"
      ]
    },
    {
      "cell_type": "code",
      "execution_count": 1,
      "metadata": {},
      "outputs": [
        {
          "name": "stdout",
          "output_type": "stream",
          "text": [
            "✅ Setup complete!\n"
          ]
        }
      ],
      "source": [
        "import os\n",
        "import sys\n",
        "from pathlib import Path\n",
        "import time\n",
        "from typing import List, Dict, Any\n",
        "\n",
        "PROJECT_ROOT = Path.cwd().parent\n",
        "sys.path.append(str(PROJECT_ROOT))\n",
        "\n",
        "# Import our modules\n",
        "from src.utils.config import config_manager\n",
        "from src.rag.chain import create_rag_chain, create_databricks_rag_chain, load_retriever\n",
        "from src.rag.llm_provider import get_llm\n",
        "\n",
        "print(\"✅ Setup complete!\")"
      ]
    },
    {
      "cell_type": "markdown",
      "metadata": {},
      "source": [
        "## RAG Chain Initialization\n"
      ]
    },
    {
      "cell_type": "code",
      "execution_count": null,
      "metadata": {},
      "outputs": [
        {
          "name": "stdout",
          "output_type": "stream",
          "text": [
            "🔧 Initializing RAG chain...\n",
            "💻 Using local FAISS configuration\n"
          ]
        },
        {
          "name": "stderr",
          "output_type": "stream",
          "text": [
            "d:\\Work\\E D C\\poc_p1\\src\\rag\\chain.py:42: LangChainDeprecationWarning: The class `HuggingFaceEmbeddings` was deprecated in LangChain 0.2.2 and will be removed in 1.0. An updated version of the class exists in the :class:`~langchain-huggingface package and should be used instead. To use it run `pip install -U :class:`~langchain-huggingface` and import as `from :class:`~langchain_huggingface import HuggingFaceEmbeddings``.\n",
            "  embeddings = HuggingFaceEmbeddings(model_name=embedding_model)\n"
          ]
        },
        {
          "name": "stdout",
          "output_type": "stream",
          "text": [
            "✅ Local RAG chain created\n",
            "\n",
            "🧪 Testing with query: 'What is this project about?'\n"
          ]
        }
      ],
      "source": [
        "# Initialize RAG chain based on configuration\n",
        "print(\"🔧 Initializing RAG chain...\")\n",
        "\n",
        "if config_manager.data.use_databricks:\n",
        "    print(\"📊 Using Databricks configuration\")\n",
        "    chain = create_databricks_rag_chain()\n",
        "    print(\"✅ Databricks RAG chain created\")\n",
        "else:\n",
        "    print(\"💻 Using local FAISS configuration\")\n",
        "    chain = create_rag_chain(\n",
        "        index_dir=config_manager.data.index_dir,\n",
        "        use_databricks=False\n",
        "    )\n",
        "    print(\"✅ Local RAG chain created\")\n",
        "\n",
        "# Test the chain with a simple query\n",
        "test_query = \"What is this project about?\"\n",
        "print(f\"\\n🧪 Testing with query: '{test_query}'\")\n",
        "\n",
        "try:\n",
        "    start_time = time.time()\n",
        "    response = chain.invoke(test_query)\n",
        "    end_time = time.time()\n",
        "    \n",
        "    print(f\"✅ Response received in {end_time - start_time:.2f} seconds\")\n",
        "    print(f\"📝 Response: {response}\")\n",
        "    \n",
        "except Exception as e:\n",
        "    print(f\"❌ Error testing RAG chain: {e}\")\n"
      ]
    },
    {
      "cell_type": "markdown",
      "metadata": {},
      "source": [
        "## Interactive Query Testing\n"
      ]
    },
    {
      "cell_type": "code",
      "execution_count": null,
      "metadata": {},
      "outputs": [],
      "source": [
        "# Interactive query testing function\n",
        "def test_query(query: str, show_timing: bool = True) -> str:\n",
        "    \"\"\"Test a query and return the response with optional timing.\"\"\"\n",
        "    if not query.strip():\n",
        "        return \"Please provide a non-empty query.\"\n",
        "    \n",
        "    try:\n",
        "        start_time = time.time()\n",
        "        response = chain.invoke(query.strip())\n",
        "        end_time = time.time()\n",
        "        \n",
        "        result = f\"Query: {query}\\n\"\n",
        "        if show_timing:\n",
        "            result += f\"Response time: {end_time - start_time:.2f} seconds\\n\"\n",
        "        result += f\"Response: {response}\\n\"\n",
        "        result += \"-\" * 50\n",
        "        \n",
        "        return result\n",
        "        \n",
        "    except Exception as e:\n",
        "        return f\"Error: {str(e)}\"\n",
        "\n",
        "# Test with sample queries\n",
        "sample_queries = [\n",
        "    \"What is the project charter about?\",\n",
        "    \"What technology stack is used?\",\n",
        "    \"What are the main features?\",\n",
        "    \"How do I set up the environment?\",\n",
        "    \"What is the architecture?\"\n",
        "]\n",
        "\n",
        "print(\"🧪 Testing with sample queries:\")\n",
        "for query in sample_queries:\n",
        "    print(test_query(query))\n",
        "    print()\n"
      ]
    },
    {
      "cell_type": "markdown",
      "metadata": {},
      "source": [
        "## Custom Query Testing\n",
        "\n",
        "Use the cell below to test your own queries:\n"
      ]
    },
    {
      "cell_type": "code",
      "execution_count": null,
      "metadata": {},
      "outputs": [],
      "source": [
        "# Test your own query here\n",
        "your_query = \"What are the next steps for this project?\"\n",
        "\n",
        "print(test_query(your_query))\n"
      ]
    }
  ],
  "metadata": {
    "kernelspec": {
      "display_name": ".venv",
      "language": "python",
      "name": "python3"
    },
    "language_info": {
      "codemirror_mode": {
        "name": "ipython",
        "version": 3
      },
      "file_extension": ".py",
      "mimetype": "text/x-python",
      "name": "python",
      "nbconvert_exporter": "python",
      "pygments_lexer": "ipython3",
      "version": "3.9.13"
    }
  },
  "nbformat": 4,
  "nbformat_minor": 2
}
