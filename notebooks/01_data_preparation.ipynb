{
 "cells": [
  {
   "cell_type": "markdown",
   "metadata": {
    "application/vnd.databricks.v1+cell": {
     "cellMetadata": {
      "byteLimit": 2048000,
      "rowLimit": 10000
     },
     "inputWidgets": {},
     "nuid": "328eed10-2aa0-48f6-bd98-0aeb57e376d0",
     "showTitle": false,
     "tableResultSettingsMap": {},
     "title": ""
    }
   },
   "source": [
    "# Data Preparation Notebook\n",
    "\n",
    "This notebook handles document loading, preprocessing, and vector index creation for the Maverick RAG system.\n",
    "\n",
    "## Features\n",
    "- Document loading from local files or Unity Catalog volumes\n",
    "- Text chunking and preprocessing\n",
    "- FAISS index creation (local development)\n",
    "- Databricks vector search setup (enterprise deployment)\n",
    "- Delta Lake table creation\n",
    "- Configuration validation\n"
   ]
  },
  {
   "cell_type": "code",
   "execution_count": null,
   "metadata": {
    "application/vnd.databricks.v1+cell": {
     "cellMetadata": {
      "byteLimit": 2048000,
      "rowLimit": 10000
     },
     "inputWidgets": {},
     "nuid": "3649cdcb-f82d-4407-9d3d-0c5be9033427",
     "showTitle": false,
     "tableResultSettingsMap": {},
     "title": ""
    }
   },
   "outputs": [],
   "source": [
    "#%pip install -qU databricks-sdk databricks-langchain databricks-agents mlflow[databricks] databricks-vectorsearch langchain langchain_core bs4 markdownify pydantic sentence-transformers pandas openpyxl langdetect\n",
    "#dbutils.library.restartPython()"
   ]
  },
  {
   "cell_type": "markdown",
   "metadata": {
    "application/vnd.databricks.v1+cell": {
     "cellMetadata": {
      "byteLimit": 2048000,
      "rowLimit": 10000
     },
     "inputWidgets": {},
     "nuid": "e7eedaaa-029f-4ad4-9b00-8510b40eb0ac",
     "showTitle": false,
     "tableResultSettingsMap": {},
     "title": ""
    }
   },
   "source": [
    "## Setup and Configuration\n"
   ]
  },
  {
   "cell_type": "code",
   "execution_count": 1,
   "metadata": {
    "application/vnd.databricks.v1+cell": {
     "cellMetadata": {
      "byteLimit": 2048000,
      "rowLimit": 10000
     },
     "inputWidgets": {},
     "nuid": "f2c0f305-2155-4b00-be2f-ad37d9405f8e",
     "showTitle": false,
     "tableResultSettingsMap": {},
     "title": ""
    }
   },
   "outputs": [
    {
     "name": "stdout",
     "output_type": "stream",
     "text": [
      "Python Executable: d:\\Work\\E D C\\poc_p1\\.venv\\Scripts\\python.exe\n",
      "Python Version: 3.9.13 (tags/v3.9.13:6de2ca5, May 17 2022, 16:36:42) [MSC v.1929 64 bit (AMD64)]\n",
      "Installed Libraries:\n",
      "  - databricks-sdk: 0.65.0\n",
      "🐍 Databricks loaded from: d:\\Work\\E D C\\poc_p1\\.venv\\lib\\site-packages\\databricks\\__init__.py\n"
     ]
    }
   ],
   "source": [
    "import sys\n",
    "import pkg_resources\n",
    "\n",
    "python_executable = sys.executable\n",
    "print(f\"Python Executable: {python_executable}\")\n",
    "print(f\"Python Version: {sys.version}\")\n",
    "print(f\"Installed Libraries:\")\n",
    "\n",
    "try:\n",
    "    sdk_version = pkg_resources.get_distribution(\"databricks-sdk\").version\n",
    "    print(f\"  - databricks-sdk: {sdk_version}\")\n",
    "except pkg_resources.DistributionNotFound:\n",
    "    print(\"  - databricks-sdk: Not installed\")\n",
    "\n",
    "import databricks\n",
    "print(f\"🐍 Databricks loaded from: {databricks.__file__}\")"
   ]
  },
  {
   "cell_type": "code",
   "execution_count": 4,
   "metadata": {
    "application/vnd.databricks.v1+cell": {
     "cellMetadata": {
      "byteLimit": 2048000,
      "rowLimit": 10000
     },
     "inputWidgets": {},
     "nuid": "1f1da97d-9ae5-4f4d-9147-64fd9fbbb0e6",
     "showTitle": false,
     "tableResultSettingsMap": {},
     "title": ""
    }
   },
   "outputs": [
    {
     "name": "stderr",
     "output_type": "stream",
     "text": [
      "d:\\Work\\E D C\\poc_p1\\.venv\\lib\\site-packages\\tqdm\\auto.py:21: TqdmWarning: IProgress not found. Please update jupyter and ipywidgets. See https://ipywidgets.readthedocs.io/en/stable/user_install.html\n",
      "  from .autonotebook import tqdm as notebook_tqdm\n"
     ]
    },
    {
     "ename": "ImportError",
     "evalue": "attempted relative import beyond top-level package",
     "output_type": "error",
     "traceback": [
      "\u001b[1;31m---------------------------------------------------------------------------\u001b[0m",
      "\u001b[1;31mImportError\u001b[0m                               Traceback (most recent call last)",
      "Cell \u001b[1;32mIn[4], line 15\u001b[0m\n\u001b[0;32m     13\u001b[0m \u001b[38;5;66;03m# Import our modules\u001b[39;00m\n\u001b[0;32m     14\u001b[0m \u001b[38;5;28;01mfrom\u001b[39;00m\u001b[38;5;250m \u001b[39m\u001b[38;5;21;01mutils\u001b[39;00m\u001b[38;5;21;01m.\u001b[39;00m\u001b[38;5;21;01mconfig\u001b[39;00m\u001b[38;5;250m \u001b[39m\u001b[38;5;28;01mimport\u001b[39;00m config_manager\n\u001b[1;32m---> 15\u001b[0m \u001b[38;5;28;01mfrom\u001b[39;00m\u001b[38;5;250m \u001b[39m\u001b[38;5;21;01mrag\u001b[39;00m\u001b[38;5;21;01m.\u001b[39;00m\u001b[38;5;21;01mingest\u001b[39;00m\u001b[38;5;250m \u001b[39m\u001b[38;5;28;01mimport\u001b[39;00m load_documents, build_index, build_databricks_vector_index\n\u001b[0;32m     17\u001b[0m \u001b[38;5;28mprint\u001b[39m(\u001b[38;5;124m\"\u001b[39m\u001b[38;5;124m✅ Setup complete!\u001b[39m\u001b[38;5;124m\"\u001b[39m)\n",
      "File \u001b[1;32md:\\Work\\E D C\\poc_p1\\src\\rag\\__init__.py:1\u001b[0m\n\u001b[1;32m----> 1\u001b[0m \u001b[38;5;28;01mfrom\u001b[39;00m\u001b[38;5;250m \u001b[39m\u001b[38;5;21;01m.\u001b[39;00m\u001b[38;5;21;01mllm_provider\u001b[39;00m\u001b[38;5;250m \u001b[39m\u001b[38;5;28;01mimport\u001b[39;00m get_llm\n\u001b[0;32m      2\u001b[0m \u001b[38;5;28;01mfrom\u001b[39;00m\u001b[38;5;250m \u001b[39m\u001b[38;5;21;01m.\u001b[39;00m\u001b[38;5;21;01mingest\u001b[39;00m\u001b[38;5;250m \u001b[39m\u001b[38;5;28;01mimport\u001b[39;00m build_faiss_index\n\u001b[0;32m      3\u001b[0m \u001b[38;5;28;01mfrom\u001b[39;00m\u001b[38;5;250m \u001b[39m\u001b[38;5;21;01m.\u001b[39;00m\u001b[38;5;21;01mchain\u001b[39;00m\u001b[38;5;250m \u001b[39m\u001b[38;5;28;01mimport\u001b[39;00m create_rag_chain\n",
      "File \u001b[1;32md:\\Work\\E D C\\poc_p1\\src\\rag\\llm_provider.py:7\u001b[0m\n\u001b[0;32m      3\u001b[0m \u001b[38;5;28;01mimport\u001b[39;00m\u001b[38;5;250m \u001b[39m\u001b[38;5;21;01mrequests\u001b[39;00m\n\u001b[0;32m      5\u001b[0m \u001b[38;5;28;01mfrom\u001b[39;00m\u001b[38;5;250m \u001b[39m\u001b[38;5;21;01mlangchain_openai\u001b[39;00m\u001b[38;5;250m \u001b[39m\u001b[38;5;28;01mimport\u001b[39;00m ChatOpenAI\n\u001b[1;32m----> 7\u001b[0m \u001b[38;5;28;01mfrom\u001b[39;00m\u001b[38;5;250m \u001b[39m\u001b[38;5;21;01m.\u001b[39;00m\u001b[38;5;21;01m.\u001b[39;00m\u001b[38;5;21;01mutils\u001b[39;00m\u001b[38;5;21;01m.\u001b[39;00m\u001b[38;5;21;01mdatabricks_config\u001b[39;00m\u001b[38;5;250m \u001b[39m\u001b[38;5;28;01mimport\u001b[39;00m databricks_config\n\u001b[0;32m     10\u001b[0m Provider \u001b[38;5;241m=\u001b[39m Literal[\u001b[38;5;124m\"\u001b[39m\u001b[38;5;124mtogether\u001b[39m\u001b[38;5;124m\"\u001b[39m, \u001b[38;5;124m\"\u001b[39m\u001b[38;5;124mopenai\u001b[39m\u001b[38;5;124m\"\u001b[39m, \u001b[38;5;124m\"\u001b[39m\u001b[38;5;124mollama\u001b[39m\u001b[38;5;124m\"\u001b[39m, \u001b[38;5;124m\"\u001b[39m\u001b[38;5;124mdatabricks\u001b[39m\u001b[38;5;124m\"\u001b[39m]\n\u001b[0;32m     13\u001b[0m \u001b[38;5;28;01mdef\u001b[39;00m\u001b[38;5;250m \u001b[39m\u001b[38;5;21mget_llm\u001b[39m(\n\u001b[0;32m     14\u001b[0m     provider: Optional[Provider] \u001b[38;5;241m=\u001b[39m \u001b[38;5;28;01mNone\u001b[39;00m,\n\u001b[0;32m     15\u001b[0m     model: Optional[\u001b[38;5;28mstr\u001b[39m] \u001b[38;5;241m=\u001b[39m \u001b[38;5;28;01mNone\u001b[39;00m,\n\u001b[0;32m     16\u001b[0m     temperature: \u001b[38;5;28mfloat\u001b[39m \u001b[38;5;241m=\u001b[39m \u001b[38;5;241m0.2\u001b[39m,\n\u001b[0;32m     17\u001b[0m     timeout: \u001b[38;5;28mint\u001b[39m \u001b[38;5;241m=\u001b[39m \u001b[38;5;241m60\u001b[39m,\n\u001b[0;32m     18\u001b[0m ):\n",
      "\u001b[1;31mImportError\u001b[0m: attempted relative import beyond top-level package"
     ]
    }
   ],
   "source": [
    "# Import required libraries\n",
    "import os\n",
    "import sys\n",
    "from pathlib import Path\n",
    "import pandas as pd\n",
    "from dotenv import load_dotenv\n",
    "\n",
    "# Add src to path for imports\n",
    "sys.path.append(str(Path.cwd().parent / \"src\"))\n",
    "# Load environment variables\n",
    "load_dotenv()\n",
    "\n",
    "# Import our modules\n",
    "from utils.config import config_manager\n",
    "from rag.ingest import load_documents, build_index, build_databricks_vector_index\n",
    "\n",
    "print(\"✅ Setup complete!\")\n"
   ]
  },
  {
   "cell_type": "markdown",
   "metadata": {
    "application/vnd.databricks.v1+cell": {
     "cellMetadata": {
      "byteLimit": 2048000,
      "rowLimit": 10000
     },
     "inputWidgets": {},
     "nuid": "9a7e8803-f390-476e-9097-8a60b454ccba",
     "showTitle": false,
     "tableResultSettingsMap": {},
     "title": ""
    }
   },
   "source": [
    "## Configuration Validation\n"
   ]
  },
  {
   "cell_type": "code",
   "execution_count": 0,
   "metadata": {
    "application/vnd.databricks.v1+cell": {
     "cellMetadata": {
      "byteLimit": 2048000,
      "rowLimit": 10000
     },
     "inputWidgets": {},
     "nuid": "181744c2-601e-4757-a082-abe91b323a70",
     "showTitle": false,
     "tableResultSettingsMap": {},
     "title": ""
    }
   },
   "outputs": [],
   "source": [
    "# Display current configuration\n",
    "config_summary = config_manager.get_config_summary()\n",
    "print(\"📋 Current Configuration:\")\n",
    "for section, config in config_summary.items():\n",
    "    print(f\"\\n{section.upper()}:\")\n",
    "    for key, value in config.items():\n",
    "        print(f\"  {key}: {value}\")\n",
    "\n",
    "# Validate configuration\n",
    "validation = config_manager.validate_config()\n",
    "print(f\"\\n🔍 Configuration Validation: {'✅ Valid' if validation['valid'] else '❌ Invalid'}\")\n",
    "\n",
    "if validation['errors']:\n",
    "    print(\"\\n❌ Errors:\")\n",
    "    for error in validation['errors']:\n",
    "        print(f\"  - {error}\")\n",
    "\n",
    "if validation['warnings']:\n",
    "    print(\"\\n⚠️ Warnings:\")\n",
    "    for warning in validation['warnings']:\n",
    "        print(f\"  - {warning}\")\n"
   ]
  },
  {
   "cell_type": "markdown",
   "metadata": {
    "application/vnd.databricks.v1+cell": {
     "cellMetadata": {
      "byteLimit": 2048000,
      "rowLimit": 10000
     },
     "inputWidgets": {},
     "nuid": "78012e51-baf2-4261-a927-60f181b3a5c2",
     "showTitle": false,
     "tableResultSettingsMap": {},
     "title": ""
    }
   },
   "source": [
    "## Document Loading\n"
   ]
  },
  {
   "cell_type": "code",
   "execution_count": 0,
   "metadata": {
    "application/vnd.databricks.v1+cell": {
     "cellMetadata": {
      "byteLimit": 2048000,
      "rowLimit": 10000
     },
     "inputWidgets": {},
     "nuid": "8ab3a176-ccae-425d-ae30-0ecba0a6c24c",
     "showTitle": false,
     "tableResultSettingsMap": {},
     "title": ""
    }
   },
   "outputs": [],
   "source": [
    "# Load documents\n",
    "docs_dir = config_manager.data.docs_dir\n",
    "print(f\"📁 Loading documents from: {docs_dir}\")\n",
    "\n",
    "try:\n",
    "    documents = load_documents(docs_dir)\n",
    "    print(f\"✅ Loaded {len(documents)} documents\")\n",
    "    \n",
    "    # Display document information\n",
    "    if documents:\n",
    "        print(\"\\n📄 Document Summary:\")\n",
    "        for i, doc in enumerate(documents[:5]):  # Show first 5\n",
    "            source = doc.metadata.get('source', 'Unknown')\n",
    "            content_preview = doc.page_content[:100] + \"...\" if len(doc.page_content) > 100 else doc.page_content\n",
    "            print(f\"  {i+1}. Source: {source}\")\n",
    "            print(f\"     Content: {content_preview}\")\n",
    "            print(f\"     Length: {len(doc.page_content)} characters\")\n",
    "            print()\n",
    "        \n",
    "        if len(documents) > 5:\n",
    "            print(f\"  ... and {len(documents) - 5} more documents\")\n",
    "    else:\n",
    "        print(\"⚠️ No documents found\")\n",
    "        \n",
    "except Exception as e:\n",
    "    print(f\"❌ Error loading documents: {e}\")\n"
   ]
  },
  {
   "cell_type": "markdown",
   "metadata": {
    "application/vnd.databricks.v1+cell": {
     "cellMetadata": {
      "byteLimit": 2048000,
      "rowLimit": 10000
     },
     "inputWidgets": {},
     "nuid": "737dba48-6d68-4094-8378-0b8e2de0c8eb",
     "showTitle": false,
     "tableResultSettingsMap": {},
     "title": ""
    }
   },
   "source": [
    "## Local FAISS Index Creation\n"
   ]
  },
  {
   "cell_type": "code",
   "execution_count": 0,
   "metadata": {
    "application/vnd.databricks.v1+cell": {
     "cellMetadata": {
      "byteLimit": 2048000,
      "rowLimit": 10000
     },
     "inputWidgets": {},
     "nuid": "d3dabee8-cecc-4202-a8a9-c665b960c225",
     "showTitle": false,
     "tableResultSettingsMap": {},
     "title": ""
    }
   },
   "outputs": [],
   "source": [
    "# Create FAISS index for local development\n",
    "if not config_manager.data.use_databricks:\n",
    "    print(\"🏗️ Creating FAISS index for local development...\")\n",
    "    \n",
    "    try:\n",
    "        index_path = build_index(\n",
    "            docs_dir=config_manager.data.docs_dir,\n",
    "            index_dir=config_manager.data.index_dir,\n",
    "            use_databricks=False\n",
    "        )\n",
    "        print(f\"✅ FAISS index created at: {index_path}\")\n",
    "        \n",
    "        # Test the index\n",
    "        from langchain_community.vectorstores import FAISS\n",
    "        from langchain_community.embeddings import HuggingFaceEmbeddings\n",
    "        \n",
    "        embeddings = HuggingFaceEmbeddings(\n",
    "            model_name=config_manager.embedding.model_name\n",
    "        )\n",
    "        \n",
    "        store = FAISS.load_local(\n",
    "            config_manager.data.index_dir, \n",
    "            embeddings, \n",
    "            allow_dangerous_deserialization=True\n",
    "        )\n",
    "        \n",
    "        print(f\"📊 Index contains {store.index.ntotal} vectors\")\n",
    "        \n",
    "        # Test similarity search\n",
    "        test_query = \"What is the project charter about?\"\n",
    "        results = store.similarity_search(test_query, k=3)\n",
    "        \n",
    "        print(f\"\\n🔍 Test query: '{test_query}'\")\n",
    "        print(\"📄 Top 3 results:\")\n",
    "        for i, result in enumerate(results):\n",
    "            print(f\"  {i+1}. {result.page_content[:150]}...\")\n",
    "            \n",
    "    except Exception as e:\n",
    "        print(f\"❌ Error creating FAISS index: {e}\")\n",
    "else:\n",
    "    print(\"⏭️ Skipping FAISS index creation (Databricks mode enabled)\")\n"
   ]
  }
 ],
 "metadata": {
  "application/vnd.databricks.v1+notebook": {
   "computePreferences": {
    "hardware": {
     "accelerator": null,
     "gpuPoolId": null,
     "memory": null
    }
   },
   "dashboards": [],
   "environmentMetadata": {
    "base_environment": "/Workspace/Users/pvenkataswamy@edc.ca/poc_p1/environment.yaml",
    "environment_version": "4"
   },
   "inputWidgetPreferences": null,
   "language": "python",
   "notebookMetadata": {
    "pythonIndentUnit": 4
   },
   "notebookName": "01_data_preparation",
   "widgets": {}
  },
  "kernelspec": {
   "display_name": ".venv",
   "language": "python",
   "name": "python3"
  },
  "language_info": {
   "codemirror_mode": {
    "name": "ipython",
    "version": 3
   },
   "file_extension": ".py",
   "mimetype": "text/x-python",
   "name": "python",
   "nbconvert_exporter": "python",
   "pygments_lexer": "ipython3",
   "version": "3.9.13"
  }
 },
 "nbformat": 4,
 "nbformat_minor": 0
}
