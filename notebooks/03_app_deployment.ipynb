{
  "cells": [
    {
      "cell_type": "markdown",
      "metadata": {},
      "source": [
        "# App Deployment Notebook\n",
        "\n",
        "This notebook is for testing the Gradio interface and deployment configurations.\n",
        "\n",
        "## Features\n",
        "- Gradio interface testing\n",
        "- Configuration validation\n",
        "- Deployment testing\n",
        "- UI customization\n",
        "- Performance monitoring\n",
        "- Server configuration testing\n"
      ]
    },
    {
      "cell_type": "markdown",
      "metadata": {},
      "source": [
        "## Setup and Configuration\n"
      ]
    },
    {
      "cell_type": "code",
      "execution_count": null,
      "metadata": {},
      "outputs": [],
      "source": [
        "import os\n",
        "import sys\n",
        "from pathlib import Path\n",
        "import gradio as gr\n",
        "\n",
        "# Add src to path for imports\n",
        "PROJECT_ROOT = Path.cwd().parent\n",
        "sys.path.append(str(PROJECT_ROOT))\n",
        "\n",
        "# Import our modules\n",
        "from src.utils.config import config_manager\n",
        "from app.app import build_interface\n",
        "\n",
        "print(\"✅ Setup complete!\")"
      ]
    },
    {
      "cell_type": "markdown",
      "metadata": {},
      "source": [
        "## Configuration Validation\n"
      ]
    },
    {
      "cell_type": "code",
      "execution_count": null,
      "metadata": {},
      "outputs": [],
      "source": [
        "# Validate configuration for deployment\n",
        "print(\"🔍 Validating deployment configuration...\")\n",
        "\n",
        "validation = config_manager.validate_config()\n",
        "print(f\"Configuration Status: {'✅ Valid' if validation['valid'] else '❌ Invalid'}\")\n",
        "\n",
        "if validation['errors']:\n",
        "    print(\"\\n❌ Configuration Errors:\")\n",
        "    for error in validation['errors']:\n",
        "        print(f\"  - {error}\")\n",
        "\n",
        "if validation['warnings']:\n",
        "    print(\"\\n⚠️ Configuration Warnings:\")\n",
        "    for warning in validation['warnings']:\n",
        "        print(f\"  - {warning}\")\n",
        "\n",
        "# Display app configuration\n",
        "app_config = config_manager.app\n",
        "print(f\"\\n📱 App Configuration:\")\n",
        "print(f\"  Title: {app_config.title}\")\n",
        "print(f\"  Server Name: {app_config.server_name}\")\n",
        "print(f\"  Server Port: {app_config.server_port}\")\n",
        "\n",
        "# Display data configuration\n",
        "data_config = config_manager.data\n",
        "print(f\"\\n💾 Data Configuration:\")\n",
        "print(f\"  Use Databricks: {data_config.use_databricks}\")\n",
        "print(f\"  Docs Directory: {data_config.docs_dir}\")\n",
        "print(f\"  Index Directory: {data_config.index_dir}\")\n",
        "\n",
        "if data_config.use_databricks:\n",
        "    print(f\"  Volume Path: {data_config.volume_path}\")\n"
      ]
    },
    {
      "cell_type": "markdown",
      "metadata": {},
      "source": [
        "## Gradio Interface Testing\n"
      ]
    },
    {
      "cell_type": "code",
      "execution_count": null,
      "metadata": {},
      "outputs": [],
      "source": [
        "# Build and test the Gradio interface\n",
        "print(\"🏗️ Building Gradio interface...\")\n",
        "\n",
        "try:\n",
        "    # Build the interface\n",
        "    demo = build_interface()\n",
        "    print(\"✅ Gradio interface built successfully\")\n",
        "    \n",
        "    # Display interface information\n",
        "    print(f\"\\n📱 Interface Details:\")\n",
        "    print(f\"  Title: {demo.title}\")\n",
        "    print(f\"  Components: {len(demo.blocks)}\")\n",
        "    \n",
        "    # Test the interface (this will launch in notebook)\n",
        "    print(\"\\n🚀 Launching interface in notebook...\")\n",
        "    demo.launch(\n",
        "        server_name=config_manager.app.server_name,\n",
        "        server_port=config_manager.app.server_port,\n",
        "        share=True,  # Set to True if you want a public link\n",
        "        inbrowser=False,  # Set to True to open in browser\n",
        "        quiet=False\n",
        "    )\n",
        "    \n",
        "except Exception as e:\n",
        "    print(f\"❌ Error building interface: {e}\")\n",
        "    print(\"Make sure you have completed data preparation first!\")\n"
      ]
    }
  ],
  "metadata": {
    "kernelspec": {
      "display_name": ".venv",
      "language": "python",
      "name": "python3"
    },
    "language_info": {
      "codemirror_mode": {
        "name": "ipython",
        "version": 3
      },
      "file_extension": ".py",
      "mimetype": "text/x-python",
      "name": "python",
      "nbconvert_exporter": "python",
      "pygments_lexer": "ipython3",
      "version": "3.9.13"
    }
  },
  "nbformat": 4,
  "nbformat_minor": 2
}
