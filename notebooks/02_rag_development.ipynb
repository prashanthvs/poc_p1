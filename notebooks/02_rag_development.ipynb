{
  "cells": [
    {
      "cell_type": "markdown",
      "metadata": {},
      "source": [
        "# RAG Development Notebook\n",
        "\n",
        "This notebook is for testing and developing RAG chains, retrievers, and LLM providers.\n",
        "\n",
        "## Features\n",
        "- RAG chain testing and development\n",
        "- Retriever performance evaluation\n",
        "- LLM provider comparison\n",
        "- Prompt engineering and optimization\n",
        "- Vector search experimentation\n",
        "- Response quality analysis\n"
      ]
    },
    {
      "cell_type": "markdown",
      "metadata": {},
      "source": [
        "## Setup and Configuration\n"
      ]
    },
    {
      "cell_type": "code",
      "execution_count": null,
      "metadata": {},
      "outputs": [],
      "source": [
        "# Import required libraries\n",
        "import os\n",
        "import sys\n",
        "from pathlib import Path\n",
        "import time\n",
        "from typing import List, Dict, Any\n",
        "from dotenv import load_dotenv\n",
        "\n",
        "# Add src to path for imports\n",
        "sys.path.append(str(Path.cwd().parent / \"src\"))\n",
        "\n",
        "# Load environment variables\n",
        "load_dotenv()\n",
        "\n",
        "# Import our modules\n",
        "from utils import config_manager\n",
        "from rag.chain import create_rag_chain, create_databricks_rag_chain, load_retriever\n",
        "from rag.llm_provider import get_llm\n",
        "\n",
        "print(\"✅ Setup complete!\")\n"
      ]
    },
    {
      "cell_type": "markdown",
      "metadata": {},
      "source": [
        "## RAG Chain Initialization\n"
      ]
    },
    {
      "cell_type": "code",
      "execution_count": null,
      "metadata": {},
      "outputs": [],
      "source": [
        "# Initialize RAG chain based on configuration\n",
        "print(\"🔧 Initializing RAG chain...\")\n",
        "\n",
        "if config_manager.data.use_databricks:\n",
        "    print(\"📊 Using Databricks configuration\")\n",
        "    chain = create_databricks_rag_chain()\n",
        "    print(\"✅ Databricks RAG chain created\")\n",
        "else:\n",
        "    print(\"💻 Using local FAISS configuration\")\n",
        "    chain = create_rag_chain(\n",
        "        index_dir=config_manager.data.index_dir,\n",
        "        use_databricks=False\n",
        "    )\n",
        "    print(\"✅ Local RAG chain created\")\n",
        "\n",
        "# Test the chain with a simple query\n",
        "test_query = \"What is this project about?\"\n",
        "print(f\"\\n🧪 Testing with query: '{test_query}'\")\n",
        "\n",
        "try:\n",
        "    start_time = time.time()\n",
        "    response = chain.invoke(test_query)\n",
        "    end_time = time.time()\n",
        "    \n",
        "    print(f\"✅ Response received in {end_time - start_time:.2f} seconds\")\n",
        "    print(f\"📝 Response: {response}\")\n",
        "    \n",
        "except Exception as e:\n",
        "    print(f\"❌ Error testing RAG chain: {e}\")\n"
      ]
    },
    {
      "cell_type": "markdown",
      "metadata": {},
      "source": [
        "## Interactive Query Testing\n"
      ]
    },
    {
      "cell_type": "code",
      "execution_count": null,
      "metadata": {},
      "outputs": [],
      "source": [
        "# Interactive query testing function\n",
        "def test_query(query: str, show_timing: bool = True) -> str:\n",
        "    \"\"\"Test a query and return the response with optional timing.\"\"\"\n",
        "    if not query.strip():\n",
        "        return \"Please provide a non-empty query.\"\n",
        "    \n",
        "    try:\n",
        "        start_time = time.time()\n",
        "        response = chain.invoke(query.strip())\n",
        "        end_time = time.time()\n",
        "        \n",
        "        result = f\"Query: {query}\\n\"\n",
        "        if show_timing:\n",
        "            result += f\"Response time: {end_time - start_time:.2f} seconds\\n\"\n",
        "        result += f\"Response: {response}\\n\"\n",
        "        result += \"-\" * 50\n",
        "        \n",
        "        return result\n",
        "        \n",
        "    except Exception as e:\n",
        "        return f\"Error: {str(e)}\"\n",
        "\n",
        "# Test with sample queries\n",
        "sample_queries = [\n",
        "    \"What is the project charter about?\",\n",
        "    \"What technology stack is used?\",\n",
        "    \"What are the main features?\",\n",
        "    \"How do I set up the environment?\",\n",
        "    \"What is the architecture?\"\n",
        "]\n",
        "\n",
        "print(\"🧪 Testing with sample queries:\")\n",
        "for query in sample_queries:\n",
        "    print(test_query(query))\n",
        "    print()\n"
      ]
    },
    {
      "cell_type": "markdown",
      "metadata": {},
      "source": [
        "## Custom Query Testing\n",
        "\n",
        "Use the cell below to test your own queries:\n"
      ]
    },
    {
      "cell_type": "code",
      "execution_count": null,
      "metadata": {},
      "outputs": [],
      "source": [
        "# Test your own query here\n",
        "your_query = \"What are the next steps for this project?\"\n",
        "\n",
        "print(test_query(your_query))\n"
      ]
    }
  ],
  "metadata": {
    "language_info": {
      "name": "python"
    }
  },
  "nbformat": 4,
  "nbformat_minor": 2
}
